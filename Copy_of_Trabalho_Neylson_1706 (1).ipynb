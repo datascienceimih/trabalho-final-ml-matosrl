{
  "nbformat": 4,
  "nbformat_minor": 0,
  "metadata": {
    "colab": {
      "name": "Copy of Trabalho_Neylson_1706.ipynb",
      "version": "0.3.2",
      "provenance": [],
      "collapsed_sections": []
    },
    "kernelspec": {
      "name": "python3",
      "display_name": "Python 3"
    }
  },
  "cells": [
    {
      "cell_type": "markdown",
      "metadata": {
        "id": "YMxJVJTSLCCp",
        "colab_type": "text"
      },
      "source": [
        "### \t\n",
        " Trabalho Final de ML\n",
        "\n",
        "Os alunos devem apresentar um modelo de Machine Learning elaborado para os dados da empresa Orange da copa KDD de 2009. Os dados e a documentação sobre o dataset estão no linkwww.vincentlemaire-labs.fr/kddcup2009/.\n",
        "\n",
        "Vocês devem trabalhar com os dados SMALL. Escolham uma das três opção de variáveis target (Churn, Appetency ou Upselling) e montem um modelo de ML que preveja o outcome escolhido.\n",
        "\n",
        "O modelo deve ser entregue num Jupyter Notebook ou num RMarkdown com os códigos e resultados COMENTADOS do exercício. Você deve mostrar o que foi feito, porque escolheu o modelo e qual tratamento foi dado aos dados e por quê.\n",
        "\n",
        "O exerício será entregue pelo Github através deste link: classroom.github.com/g/jnKXDsi7"
      ]
    },
    {
      "cell_type": "markdown",
      "metadata": {
        "id": "st0b9wPtEzeJ",
        "colab_type": "text"
      },
      "source": [
        "DATA PREPARATION\n",
        "trabalhando com daods desbalanceados\n",
        "Vamos utilizar o algoritmo SMOTE( Sintetic minority Over-Sampling Technique).\n",
        "Primeiro, vamos fazer o dowload dos dados que precisamos para o exercicio:"
      ]
    },
    {
      "cell_type": "code",
      "metadata": {
        "id": "Rg4oayXGFPDK",
        "colab_type": "code",
        "outputId": "a07e43b8-0f5e-43e1-f73d-33f3eb6c5f65",
        "colab": {
          "base_uri": "https://localhost:8080/",
          "height": 765
        }
      },
      "source": [
        "!wget http://www.vincentlemaire-labs.fr/kddcup2009/orange_small_train.data.zip\n",
        "!wget http://www.vincentlemaire-labs.fr/kddcup2009/orange_small_train_churn.labels\n",
        "!wget http://www.vincentlemaire-labs.fr/kddcup2009/orange_small_train_appetency.labels\n",
        "!wget http://www.vincentlemaire-labs.fr/kddcup2009/orange_small_train_upselling.labels"
      ],
      "execution_count": 0,
      "outputs": [
        {
          "output_type": "stream",
          "text": [
            "--2019-06-26 00:16:40--  http://www.vincentlemaire-labs.fr/kddcup2009/orange_small_train.data.zip\n",
            "Resolving www.vincentlemaire-labs.fr (www.vincentlemaire-labs.fr)... 81.169.145.72, 2a01:238:20a:202:1072::\n",
            "Connecting to www.vincentlemaire-labs.fr (www.vincentlemaire-labs.fr)|81.169.145.72|:80... connected.\n",
            "HTTP request sent, awaiting response... 200 OK\n",
            "Length: 8424904 (8.0M) [application/zip]\n",
            "Saving to: ‘orange_small_train.data.zip’\n",
            "\n",
            "orange_small_train. 100%[===================>]   8.03M   630KB/s    in 13s     \n",
            "\n",
            "2019-06-26 00:16:54 (610 KB/s) - ‘orange_small_train.data.zip’ saved [8424904/8424904]\n",
            "\n",
            "--2019-06-26 00:16:55--  http://www.vincentlemaire-labs.fr/kddcup2009/orange_small_train_churn.labels\n",
            "Resolving www.vincentlemaire-labs.fr (www.vincentlemaire-labs.fr)... 81.169.145.72, 2a01:238:20a:202:1072::\n",
            "Connecting to www.vincentlemaire-labs.fr (www.vincentlemaire-labs.fr)|81.169.145.72|:80... connected.\n",
            "HTTP request sent, awaiting response... 200 OK\n",
            "Length: 196328 (192K)\n",
            "Saving to: ‘orange_small_train_churn.labels’\n",
            "\n",
            "orange_small_train_ 100%[===================>] 191.73K   578KB/s    in 0.3s    \n",
            "\n",
            "2019-06-26 00:16:56 (578 KB/s) - ‘orange_small_train_churn.labels’ saved [196328/196328]\n",
            "\n",
            "--2019-06-26 00:16:57--  http://www.vincentlemaire-labs.fr/kddcup2009/orange_small_train_appetency.labels\n",
            "Resolving www.vincentlemaire-labs.fr (www.vincentlemaire-labs.fr)... 81.169.145.72, 2a01:238:20a:202:1072::\n",
            "Connecting to www.vincentlemaire-labs.fr (www.vincentlemaire-labs.fr)|81.169.145.72|:80... connected.\n",
            "HTTP request sent, awaiting response... 200 OK\n",
            "Length: 199110 (194K)\n",
            "Saving to: ‘orange_small_train_appetency.labels’\n",
            "\n",
            "orange_small_train_ 100%[===================>] 194.44K   585KB/s    in 0.3s    \n",
            "\n",
            "2019-06-26 00:16:57 (585 KB/s) - ‘orange_small_train_appetency.labels’ saved [199110/199110]\n",
            "\n",
            "--2019-06-26 00:16:58--  http://www.vincentlemaire-labs.fr/kddcup2009/orange_small_train_upselling.labels\n",
            "Resolving www.vincentlemaire-labs.fr (www.vincentlemaire-labs.fr)... 81.169.145.72, 2a01:238:20a:202:1072::\n",
            "Connecting to www.vincentlemaire-labs.fr (www.vincentlemaire-labs.fr)|81.169.145.72|:80... connected.\n",
            "HTTP request sent, awaiting response... 200 OK\n",
            "Length: 196318 (192K)\n",
            "Saving to: ‘orange_small_train_upselling.labels’\n",
            "\n",
            "orange_small_train_ 100%[===================>] 191.72K   579KB/s    in 0.3s    \n",
            "\n",
            "2019-06-26 00:16:59 (579 KB/s) - ‘orange_small_train_upselling.labels’ saved [196318/196318]\n",
            "\n"
          ],
          "name": "stdout"
        }
      ]
    },
    {
      "cell_type": "code",
      "metadata": {
        "id": "wyTWDh1MKDfD",
        "colab_type": "code",
        "outputId": "25ddf278-9f78-46a7-8349-fedd867c896e",
        "colab": {
          "base_uri": "https://localhost:8080/",
          "height": 68
        }
      },
      "source": [
        "!unzip orange_small_train.data.zip"
      ],
      "execution_count": 0,
      "outputs": [
        {
          "output_type": "stream",
          "text": [
            "Archive:  orange_small_train.data.zip\n",
            "  inflating: orange_small_train.data  \n",
            " extracting: orange_small_train.data.cksum  \n"
          ],
          "name": "stdout"
        }
      ]
    },
    {
      "cell_type": "code",
      "metadata": {
        "id": "Umc2pCl7KemC",
        "colab_type": "code",
        "outputId": "f4dc2249-fd78-4a0e-9b64-ffd1c1c47ab0",
        "colab": {
          "base_uri": "https://localhost:8080/",
          "height": 85
        }
      },
      "source": [
        "!ls"
      ],
      "execution_count": 0,
      "outputs": [
        {
          "output_type": "stream",
          "text": [
            "gdrive\t\t\t\t     orange_small_train.data.cksum\n",
            "orange_small_train_appetency.labels  orange_small_train.data.zip\n",
            "orange_small_train_churn.labels      orange_small_train_upselling.labels\n",
            "orange_small_train.data\t\t     sample_data\n"
          ],
          "name": "stdout"
        }
      ]
    },
    {
      "cell_type": "code",
      "metadata": {
        "id": "0H2iRAhdKjDw",
        "colab_type": "code",
        "colab": {}
      },
      "source": [
        "import pandas as pd\n",
        "import numpy as np\n",
        "import matplotlib.pyplot as plt\n",
        "%matplotlib inline"
      ],
      "execution_count": 0,
      "outputs": []
    },
    {
      "cell_type": "code",
      "metadata": {
        "id": "1eKEuUxYLXWh",
        "colab_type": "code",
        "outputId": "1181012d-6494-4d76-cb86-8e6d1f154448",
        "colab": {
          "base_uri": "https://localhost:8080/",
          "height": 71
        }
      },
      "source": [
        "from imblearn.over_sampling import SMOTE\n",
        "from sklearn.model_selection import train_test_split,KFold\n",
        "from sklearn.impute import SimpleImputer\n",
        "from sklearn.linear_model import LogisticRegressionCV\n",
        "from sklearn.ensemble import  RandomForestClassifier\n",
        "import xgboost as xgb\n",
        "from sklearn.metrics import roc_auc_score,confusion_matrix\n"
      ],
      "execution_count": 0,
      "outputs": [
        {
          "output_type": "stream",
          "text": [
            "/usr/local/lib/python3.6/dist-packages/sklearn/externals/six.py:31: DeprecationWarning: The module is deprecated in version 0.21 and will be removed in version 0.23 since we've dropped support for Python 2.7. Please rely on the official version of six (https://pypi.org/project/six/).\n",
            "  \"(https://pypi.org/project/six/).\", DeprecationWarning)\n"
          ],
          "name": "stderr"
        }
      ]
    },
    {
      "cell_type": "code",
      "metadata": {
        "id": "jZ5Rgq-NNMXF",
        "colab_type": "code",
        "colab": {}
      },
      "source": [
        "X = pd.read_csv(\"orange_small_train.data\", sep=\"\\t\")"
      ],
      "execution_count": 0,
      "outputs": []
    },
    {
      "cell_type": "code",
      "metadata": {
        "id": "UP72Fd-7OsMz",
        "colab_type": "code",
        "outputId": "f4e46e86-ab5b-409c-9974-2402cc763159",
        "colab": {
          "base_uri": "https://localhost:8080/",
          "height": 34
        }
      },
      "source": [
        "X.shape"
      ],
      "execution_count": 0,
      "outputs": [
        {
          "output_type": "execute_result",
          "data": {
            "text/plain": [
              "(50000, 230)"
            ]
          },
          "metadata": {
            "tags": []
          },
          "execution_count": 31
        }
      ]
    },
    {
      "cell_type": "code",
      "metadata": {
        "id": "td3KfZ-3O3lk",
        "colab_type": "code",
        "colab": {}
      },
      "source": [
        "Y = pd.read_csv(\"orange_small_train_upselling.labels\", sep=\"\\t\", header=None)"
      ],
      "execution_count": 0,
      "outputs": []
    },
    {
      "cell_type": "code",
      "metadata": {
        "id": "XFVtQXfJQ2n4",
        "colab_type": "code",
        "outputId": "a0932545-c789-4a51-f4e6-c82c1c471fe8",
        "colab": {
          "base_uri": "https://localhost:8080/",
          "height": 34
        }
      },
      "source": [
        "Y.shape"
      ],
      "execution_count": 0,
      "outputs": [
        {
          "output_type": "execute_result",
          "data": {
            "text/plain": [
              "(50000, 1)"
            ]
          },
          "metadata": {
            "tags": []
          },
          "execution_count": 10
        }
      ]
    },
    {
      "cell_type": "code",
      "metadata": {
        "id": "zPKrTPIjROib",
        "colab_type": "code",
        "outputId": "a9e567d0-f752-4a73-c827-ed0a94e84cbd",
        "colab": {
          "base_uri": "https://localhost:8080/",
          "height": 51
        }
      },
      "source": [
        "X = pd.read_csv(\"orange_small_train.data\", sep=\"\\t\")\n",
        "y = pd.read_csv(\"orange_small_train_appetency.labels\", header=None)\n",
        "print(X.shape)\n",
        "print(y.shape)"
      ],
      "execution_count": 0,
      "outputs": [
        {
          "output_type": "stream",
          "text": [
            "(50000, 230)\n",
            "(50000, 1)\n"
          ],
          "name": "stdout"
        }
      ]
    },
    {
      "cell_type": "markdown",
      "metadata": {
        "id": "gZL0faV0Po4Q",
        "colab_type": "text"
      },
      "source": [
        "Vamos criar uma regra em que variáveis com mais de 15% de missing serão cortadas do banco."
      ]
    },
    {
      "cell_type": "code",
      "metadata": {
        "id": "LzNLO3NyQqP9",
        "colab_type": "code",
        "outputId": "4e32a229-4b24-462b-b77b-9a40ba8de60b",
        "colab": {
          "base_uri": "https://localhost:8080/",
          "height": 34
        }
      },
      "source": [
        "X.shape"
      ],
      "execution_count": 0,
      "outputs": [
        {
          "output_type": "execute_result",
          "data": {
            "text/plain": [
              "(50000, 230)"
            ]
          },
          "metadata": {
            "tags": []
          },
          "execution_count": 35
        }
      ]
    },
    {
      "cell_type": "code",
      "metadata": {
        "id": "PQM2S91DIHXs",
        "colab_type": "code",
        "outputId": "467081a5-18d2-4891-9259-69f0cbaef311",
        "colab": {
          "base_uri": "https://localhost:8080/",
          "height": 34
        }
      },
      "source": [
        "colunas_dropar = []\n",
        "for i in range(X.shape[1]):\n",
        "  if X.iloc[:,i].isna().sum() / X.shape[0] > 0.15:\n",
        "    colunas_dropar.append(X.columns[i])\n",
        "    \n",
        "X = X.drop(columns = colunas_dropar)\n",
        "\n",
        "X.shape"
      ],
      "execution_count": 0,
      "outputs": [
        {
          "output_type": "execute_result",
          "data": {
            "text/plain": [
              "(50000, 66)"
            ]
          },
          "metadata": {
            "tags": []
          },
          "execution_count": 36
        }
      ]
    },
    {
      "cell_type": "markdown",
      "metadata": {
        "id": "pPzswy3-RIjN",
        "colab_type": "text"
      },
      "source": [
        "Começar o processo de pré-processamento"
      ]
    },
    {
      "cell_type": "code",
      "metadata": {
        "id": "l5fRHeHnR6y_",
        "colab_type": "code",
        "outputId": "63de3090-1e07-460d-9590-c7eb3de676a9",
        "colab": {
          "base_uri": "https://localhost:8080/",
          "height": 224
        }
      },
      "source": [
        "medimp = SimpleImputer(missing_values=np.nan, strategy='mean')\n",
        "X.iloc[:, :38] = medimp.fit_transform(X.iloc[:, :38])\n",
        "X.head()"
      ],
      "execution_count": 0,
      "outputs": [
        {
          "output_type": "execute_result",
          "data": {
            "text/html": [
              "<div>\n",
              "<style scoped>\n",
              "    .dataframe tbody tr th:only-of-type {\n",
              "        vertical-align: middle;\n",
              "    }\n",
              "\n",
              "    .dataframe tbody tr th {\n",
              "        vertical-align: top;\n",
              "    }\n",
              "\n",
              "    .dataframe thead th {\n",
              "        text-align: right;\n",
              "    }\n",
              "</style>\n",
              "<table border=\"1\" class=\"dataframe\">\n",
              "  <thead>\n",
              "    <tr style=\"text-align: right;\">\n",
              "      <th></th>\n",
              "      <th>Var6</th>\n",
              "      <th>Var7</th>\n",
              "      <th>Var13</th>\n",
              "      <th>Var21</th>\n",
              "      <th>Var22</th>\n",
              "      <th>Var24</th>\n",
              "      <th>Var25</th>\n",
              "      <th>Var28</th>\n",
              "      <th>Var35</th>\n",
              "      <th>Var38</th>\n",
              "      <th>Var44</th>\n",
              "      <th>Var57</th>\n",
              "      <th>Var65</th>\n",
              "      <th>Var73</th>\n",
              "      <th>Var74</th>\n",
              "      <th>Var76</th>\n",
              "      <th>Var78</th>\n",
              "      <th>Var81</th>\n",
              "      <th>Var83</th>\n",
              "      <th>Var85</th>\n",
              "      <th>Var109</th>\n",
              "      <th>Var112</th>\n",
              "      <th>Var113</th>\n",
              "      <th>Var119</th>\n",
              "      <th>Var123</th>\n",
              "      <th>Var125</th>\n",
              "      <th>Var132</th>\n",
              "      <th>Var133</th>\n",
              "      <th>Var134</th>\n",
              "      <th>Var140</th>\n",
              "      <th>Var143</th>\n",
              "      <th>Var144</th>\n",
              "      <th>Var149</th>\n",
              "      <th>Var153</th>\n",
              "      <th>Var160</th>\n",
              "      <th>Var163</th>\n",
              "      <th>Var173</th>\n",
              "      <th>Var181</th>\n",
              "      <th>Var192</th>\n",
              "      <th>Var193</th>\n",
              "      <th>Var195</th>\n",
              "      <th>Var196</th>\n",
              "      <th>Var197</th>\n",
              "      <th>Var198</th>\n",
              "      <th>Var199</th>\n",
              "      <th>Var202</th>\n",
              "      <th>Var203</th>\n",
              "      <th>Var204</th>\n",
              "      <th>Var205</th>\n",
              "      <th>Var206</th>\n",
              "      <th>Var207</th>\n",
              "      <th>Var208</th>\n",
              "      <th>Var210</th>\n",
              "      <th>Var211</th>\n",
              "      <th>Var212</th>\n",
              "      <th>Var216</th>\n",
              "      <th>Var217</th>\n",
              "      <th>Var218</th>\n",
              "      <th>Var219</th>\n",
              "      <th>Var220</th>\n",
              "      <th>Var221</th>\n",
              "      <th>Var222</th>\n",
              "      <th>Var223</th>\n",
              "      <th>Var226</th>\n",
              "      <th>Var227</th>\n",
              "      <th>Var228</th>\n",
              "    </tr>\n",
              "  </thead>\n",
              "  <tbody>\n",
              "    <tr>\n",
              "      <th>0</th>\n",
              "      <td>1526.000000</td>\n",
              "      <td>7.0</td>\n",
              "      <td>184.0</td>\n",
              "      <td>464.000000</td>\n",
              "      <td>580.0</td>\n",
              "      <td>14.000000</td>\n",
              "      <td>128.0</td>\n",
              "      <td>166.56</td>\n",
              "      <td>0.0</td>\n",
              "      <td>3570.0</td>\n",
              "      <td>0.0</td>\n",
              "      <td>4.076907</td>\n",
              "      <td>9.0</td>\n",
              "      <td>36.0</td>\n",
              "      <td>35.0</td>\n",
              "      <td>1350864.0</td>\n",
              "      <td>0.0</td>\n",
              "      <td>7333.110000</td>\n",
              "      <td>5.0</td>\n",
              "      <td>12.0</td>\n",
              "      <td>104.00000</td>\n",
              "      <td>168.0</td>\n",
              "      <td>117625.60</td>\n",
              "      <td>1175.000000</td>\n",
              "      <td>6.0</td>\n",
              "      <td>720.0</td>\n",
              "      <td>0.0</td>\n",
              "      <td>1212385.0</td>\n",
              "      <td>69134.0</td>\n",
              "      <td>185.0</td>\n",
              "      <td>0.0</td>\n",
              "      <td>9.000000</td>\n",
              "      <td>397579.000000</td>\n",
              "      <td>1812252.0</td>\n",
              "      <td>142.0</td>\n",
              "      <td>38418.0</td>\n",
              "      <td>0.0</td>\n",
              "      <td>0.0</td>\n",
              "      <td>bZkvyxLkBI</td>\n",
              "      <td>RO12</td>\n",
              "      <td>taul</td>\n",
              "      <td>1K8T</td>\n",
              "      <td>lK27</td>\n",
              "      <td>ka_ns41</td>\n",
              "      <td>nQUveAzAF7</td>\n",
              "      <td>dXGu</td>\n",
              "      <td>9_Y1</td>\n",
              "      <td>FbIm</td>\n",
              "      <td>VpdQ</td>\n",
              "      <td>haYg</td>\n",
              "      <td>me75fM6ugJ</td>\n",
              "      <td>kIsH</td>\n",
              "      <td>uKAI</td>\n",
              "      <td>L84s</td>\n",
              "      <td>XfqtO3UdzaXh_</td>\n",
              "      <td>XTbPUYD</td>\n",
              "      <td>sH5Z</td>\n",
              "      <td>cJvF</td>\n",
              "      <td>FzaX</td>\n",
              "      <td>1YVfGrO</td>\n",
              "      <td>oslk</td>\n",
              "      <td>fXVEsaq</td>\n",
              "      <td>jySVZNlOJy</td>\n",
              "      <td>xb3V</td>\n",
              "      <td>RAYp</td>\n",
              "      <td>F2FyR07IdsN7I</td>\n",
              "    </tr>\n",
              "    <tr>\n",
              "      <th>1</th>\n",
              "      <td>525.000000</td>\n",
              "      <td>0.0</td>\n",
              "      <td>0.0</td>\n",
              "      <td>168.000000</td>\n",
              "      <td>210.0</td>\n",
              "      <td>2.000000</td>\n",
              "      <td>24.0</td>\n",
              "      <td>353.52</td>\n",
              "      <td>0.0</td>\n",
              "      <td>4764966.0</td>\n",
              "      <td>0.0</td>\n",
              "      <td>5.408032</td>\n",
              "      <td>9.0</td>\n",
              "      <td>26.0</td>\n",
              "      <td>0.0</td>\n",
              "      <td>2872928.0</td>\n",
              "      <td>3.0</td>\n",
              "      <td>151098.900000</td>\n",
              "      <td>25.0</td>\n",
              "      <td>2.0</td>\n",
              "      <td>40.00000</td>\n",
              "      <td>40.0</td>\n",
              "      <td>-356411.60</td>\n",
              "      <td>590.000000</td>\n",
              "      <td>72.0</td>\n",
              "      <td>0.0</td>\n",
              "      <td>8.0</td>\n",
              "      <td>4136430.0</td>\n",
              "      <td>357038.0</td>\n",
              "      <td>0.0</td>\n",
              "      <td>0.0</td>\n",
              "      <td>9.000000</td>\n",
              "      <td>278334.000000</td>\n",
              "      <td>10439160.0</td>\n",
              "      <td>32.0</td>\n",
              "      <td>238572.0</td>\n",
              "      <td>0.0</td>\n",
              "      <td>0.0</td>\n",
              "      <td>CEat0G8rTN</td>\n",
              "      <td>RO12</td>\n",
              "      <td>taul</td>\n",
              "      <td>1K8T</td>\n",
              "      <td>2Ix5</td>\n",
              "      <td>qEdASpP</td>\n",
              "      <td>y2LIM01bE1</td>\n",
              "      <td>lg1t</td>\n",
              "      <td>9_Y1</td>\n",
              "      <td>k13i</td>\n",
              "      <td>sJzTlal</td>\n",
              "      <td>zm5i</td>\n",
              "      <td>me75fM6ugJ</td>\n",
              "      <td>kIsH</td>\n",
              "      <td>uKAI</td>\n",
              "      <td>L84s</td>\n",
              "      <td>NhsEn4L</td>\n",
              "      <td>kZJyVg2</td>\n",
              "      <td>NaN</td>\n",
              "      <td>NaN</td>\n",
              "      <td>FzaX</td>\n",
              "      <td>0AJo2f2</td>\n",
              "      <td>oslk</td>\n",
              "      <td>2Kb5FSF</td>\n",
              "      <td>LM8l689qOp</td>\n",
              "      <td>fKCe</td>\n",
              "      <td>RAYp</td>\n",
              "      <td>F2FyR07IdsN7I</td>\n",
              "    </tr>\n",
              "    <tr>\n",
              "      <th>2</th>\n",
              "      <td>5236.000000</td>\n",
              "      <td>7.0</td>\n",
              "      <td>904.0</td>\n",
              "      <td>1212.000000</td>\n",
              "      <td>1515.0</td>\n",
              "      <td>26.000000</td>\n",
              "      <td>816.0</td>\n",
              "      <td>220.08</td>\n",
              "      <td>0.0</td>\n",
              "      <td>5883894.0</td>\n",
              "      <td>0.0</td>\n",
              "      <td>6.599658</td>\n",
              "      <td>9.0</td>\n",
              "      <td>130.0</td>\n",
              "      <td>518.0</td>\n",
              "      <td>1675776.0</td>\n",
              "      <td>0.0</td>\n",
              "      <td>16211.580000</td>\n",
              "      <td>40.0</td>\n",
              "      <td>58.0</td>\n",
              "      <td>312.00000</td>\n",
              "      <td>336.0</td>\n",
              "      <td>405104.00</td>\n",
              "      <td>3230.000000</td>\n",
              "      <td>114.0</td>\n",
              "      <td>5967.0</td>\n",
              "      <td>0.0</td>\n",
              "      <td>3478905.0</td>\n",
              "      <td>248932.0</td>\n",
              "      <td>800.0</td>\n",
              "      <td>0.0</td>\n",
              "      <td>36.000000</td>\n",
              "      <td>320565.000000</td>\n",
              "      <td>9826360.0</td>\n",
              "      <td>206.0</td>\n",
              "      <td>434946.0</td>\n",
              "      <td>0.0</td>\n",
              "      <td>0.0</td>\n",
              "      <td>eOQt0GoOh3</td>\n",
              "      <td>AERks4l</td>\n",
              "      <td>taul</td>\n",
              "      <td>1K8T</td>\n",
              "      <td>ffXs</td>\n",
              "      <td>NldASpP</td>\n",
              "      <td>y4g9XoZ</td>\n",
              "      <td>4bTR</td>\n",
              "      <td>9_Y1</td>\n",
              "      <td>MGOA</td>\n",
              "      <td>VpdQ</td>\n",
              "      <td>haYg</td>\n",
              "      <td>DHn_WUyBhW_whjA88g9bvA64_</td>\n",
              "      <td>kIsH</td>\n",
              "      <td>uKAI</td>\n",
              "      <td>L84s</td>\n",
              "      <td>UbxQ8lZ</td>\n",
              "      <td>pMWAe2U</td>\n",
              "      <td>bHR7</td>\n",
              "      <td>UYBR</td>\n",
              "      <td>FzaX</td>\n",
              "      <td>JFM1BiF</td>\n",
              "      <td>Al6ZaUT</td>\n",
              "      <td>NKv4yOc</td>\n",
              "      <td>jySVZNlOJy</td>\n",
              "      <td>Qu4f</td>\n",
              "      <td>02N6s8f</td>\n",
              "      <td>ib5G6X1eUxUn6</td>\n",
              "    </tr>\n",
              "    <tr>\n",
              "      <th>3</th>\n",
              "      <td>1326.437116</td>\n",
              "      <td>0.0</td>\n",
              "      <td>0.0</td>\n",
              "      <td>234.518225</td>\n",
              "      <td>0.0</td>\n",
              "      <td>4.507926</td>\n",
              "      <td>0.0</td>\n",
              "      <td>22.08</td>\n",
              "      <td>0.0</td>\n",
              "      <td>0.0</td>\n",
              "      <td>0.0</td>\n",
              "      <td>1.988250</td>\n",
              "      <td>9.0</td>\n",
              "      <td>12.0</td>\n",
              "      <td>0.0</td>\n",
              "      <td>0.0</td>\n",
              "      <td>0.0</td>\n",
              "      <td>103084.052693</td>\n",
              "      <td>0.0</td>\n",
              "      <td>0.0</td>\n",
              "      <td>60.88866</td>\n",
              "      <td>0.0</td>\n",
              "      <td>-275703.60</td>\n",
              "      <td>916.112185</td>\n",
              "      <td>0.0</td>\n",
              "      <td>0.0</td>\n",
              "      <td>0.0</td>\n",
              "      <td>0.0</td>\n",
              "      <td>0.0</td>\n",
              "      <td>0.0</td>\n",
              "      <td>0.0</td>\n",
              "      <td>11.727665</td>\n",
              "      <td>294920.804255</td>\n",
              "      <td>0.0</td>\n",
              "      <td>0.0</td>\n",
              "      <td>0.0</td>\n",
              "      <td>0.0</td>\n",
              "      <td>0.0</td>\n",
              "      <td>jg69tYsGvO</td>\n",
              "      <td>RO12</td>\n",
              "      <td>taul</td>\n",
              "      <td>1K8T</td>\n",
              "      <td>ssAy</td>\n",
              "      <td>_ybO0dd</td>\n",
              "      <td>4hMlgkf58mhwh</td>\n",
              "      <td>W8mQ</td>\n",
              "      <td>9_Y1</td>\n",
              "      <td>YULl</td>\n",
              "      <td>VpdQ</td>\n",
              "      <td>NaN</td>\n",
              "      <td>me75fM6ugJ</td>\n",
              "      <td>kIsH</td>\n",
              "      <td>uKAI</td>\n",
              "      <td>Mtgm</td>\n",
              "      <td>NhsEn4L</td>\n",
              "      <td>kq0dQfu</td>\n",
              "      <td>eKej</td>\n",
              "      <td>UYBR</td>\n",
              "      <td>FzaX</td>\n",
              "      <td>L91KIiz</td>\n",
              "      <td>oslk</td>\n",
              "      <td>CE7uk3u</td>\n",
              "      <td>LM8l689qOp</td>\n",
              "      <td>FSa2</td>\n",
              "      <td>RAYp</td>\n",
              "      <td>F2FyR07IdsN7I</td>\n",
              "    </tr>\n",
              "    <tr>\n",
              "      <th>4</th>\n",
              "      <td>1029.000000</td>\n",
              "      <td>7.0</td>\n",
              "      <td>3216.0</td>\n",
              "      <td>64.000000</td>\n",
              "      <td>80.0</td>\n",
              "      <td>4.000000</td>\n",
              "      <td>64.0</td>\n",
              "      <td>200.00</td>\n",
              "      <td>0.0</td>\n",
              "      <td>0.0</td>\n",
              "      <td>0.0</td>\n",
              "      <td>4.552446</td>\n",
              "      <td>18.0</td>\n",
              "      <td>82.0</td>\n",
              "      <td>224.0</td>\n",
              "      <td>784448.0</td>\n",
              "      <td>0.0</td>\n",
              "      <td>37423.500000</td>\n",
              "      <td>0.0</td>\n",
              "      <td>0.0</td>\n",
              "      <td>32.00000</td>\n",
              "      <td>56.0</td>\n",
              "      <td>10714.84</td>\n",
              "      <td>215.000000</td>\n",
              "      <td>0.0</td>\n",
              "      <td>15111.0</td>\n",
              "      <td>0.0</td>\n",
              "      <td>150650.0</td>\n",
              "      <td>66046.0</td>\n",
              "      <td>3255.0</td>\n",
              "      <td>0.0</td>\n",
              "      <td>9.000000</td>\n",
              "      <td>267162.000000</td>\n",
              "      <td>644836.0</td>\n",
              "      <td>2.0</td>\n",
              "      <td>0.0</td>\n",
              "      <td>0.0</td>\n",
              "      <td>0.0</td>\n",
              "      <td>IXSgUHShse</td>\n",
              "      <td>RO12</td>\n",
              "      <td>taul</td>\n",
              "      <td>1K8T</td>\n",
              "      <td>uNkU</td>\n",
              "      <td>EKR938I</td>\n",
              "      <td>ThrHXVS</td>\n",
              "      <td>xklU</td>\n",
              "      <td>9_Y1</td>\n",
              "      <td>RVjC</td>\n",
              "      <td>sJzTlal</td>\n",
              "      <td>6JmL</td>\n",
              "      <td>me75fM6ugJ</td>\n",
              "      <td>kIsH</td>\n",
              "      <td>uKAI</td>\n",
              "      <td>L84s</td>\n",
              "      <td>XfqtO3UdzaXh_</td>\n",
              "      <td>11p4mKe</td>\n",
              "      <td>H3p7</td>\n",
              "      <td>UYBR</td>\n",
              "      <td>FzaX</td>\n",
              "      <td>OrnLfvc</td>\n",
              "      <td>oslk</td>\n",
              "      <td>1J2cvxe</td>\n",
              "      <td>LM8l689qOp</td>\n",
              "      <td>FSa2</td>\n",
              "      <td>RAYp</td>\n",
              "      <td>F2FyR07IdsN7I</td>\n",
              "    </tr>\n",
              "  </tbody>\n",
              "</table>\n",
              "</div>"
            ],
            "text/plain": [
              "          Var6  Var7   Var13  ...  Var226   Var227         Var228\n",
              "0  1526.000000   7.0   184.0  ...    xb3V     RAYp  F2FyR07IdsN7I\n",
              "1   525.000000   0.0     0.0  ...    fKCe     RAYp  F2FyR07IdsN7I\n",
              "2  5236.000000   7.0   904.0  ...    Qu4f  02N6s8f  ib5G6X1eUxUn6\n",
              "3  1326.437116   0.0     0.0  ...    FSa2     RAYp  F2FyR07IdsN7I\n",
              "4  1029.000000   7.0  3216.0  ...    FSa2     RAYp  F2FyR07IdsN7I\n",
              "\n",
              "[5 rows x 66 columns]"
            ]
          },
          "metadata": {
            "tags": []
          },
          "execution_count": 45
        }
      ]
    },
    {
      "cell_type": "code",
      "metadata": {
        "id": "Jcp5IA39So6P",
        "colab_type": "code",
        "colab": {}
      },
      "source": [
        "## Nas categóricas vamos substituir os missing por uma categoria chamada Miss\n",
        "missimp = SimpleImputer(missing_values=np.nan, strategy='constant', fill_value = \"Miss\")\n",
        "X.iloc[:, 38:68] = missimp.fit_transform(X.iloc[:, 38:68])"
      ],
      "execution_count": 0,
      "outputs": []
    },
    {
      "cell_type": "markdown",
      "metadata": {
        "id": "nLZVN5m1Tg7G",
        "colab_type": "text"
      },
      "source": [
        "Antes de transformar as categóricas em dummies, retirar as categorias raras."
      ]
    },
    {
      "cell_type": "code",
      "metadata": {
        "id": "b-h09b51RLSo",
        "colab_type": "code",
        "outputId": "7b63ca9a-b897-4bc4-b9fb-c8ffa1b743e8",
        "colab": {
          "base_uri": "https://localhost:8080/",
          "height": 170
        }
      },
      "source": [
        "X = pd.get_dummies(X)\n",
        "X.columns"
      ],
      "execution_count": 0,
      "outputs": [
        {
          "output_type": "execute_result",
          "data": {
            "text/plain": [
              "Index(['Var6', 'Var7', 'Var13', 'Var21', 'Var22', 'Var24', 'Var25', 'Var28',\n",
              "       'Var35', 'Var38',\n",
              "       ...\n",
              "       'Var228__URKn_77G3QyQHSVQ2N1RKmtW', 'Var228__cTCyH95OE93jSkoIBT',\n",
              "       'Var228_am14IcfM7tWLrUmRT52KtA', 'Var228_b9qbUNk0dML_Mvi2',\n",
              "       'Var228_d0LtHjWeaXyArdN4sxU_saXqH', 'Var228_ib5G6X1eUxUn6',\n",
              "       'Var228_iyHGyLCEkQ', 'Var228_n1OBWGkV3fbsHR75taC', 'Var228_r_7E',\n",
              "       'Var228_xwM2aC7IdeMC0'],\n",
              "      dtype='object', length=40708)"
            ]
          },
          "metadata": {
            "tags": []
          },
          "execution_count": 55
        }
      ]
    },
    {
      "cell_type": "code",
      "metadata": {
        "id": "eKd82fywTNp0",
        "colab_type": "code",
        "colab": {}
      },
      "source": [
        ""
      ],
      "execution_count": 0,
      "outputs": []
    }
  ]
}